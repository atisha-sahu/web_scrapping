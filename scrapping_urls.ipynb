{
 "cells": [
  {
   "cell_type": "code",
   "execution_count": 8,
   "metadata": {},
   "outputs": [
    {
     "name": "stdout",
     "output_type": "stream",
     "text": [
      "https://www.google.com/search?q=how+to+create+a+chatbot+using+python&num=25&sca_esv=ec736c652fbf8951&sca_upv=1&source=lnt&tbm=vid&tbs=dur:s&sa=X&ved=0ahUKEwik0ty5-IWGAxUncGwGHfuSAd4QpwUIDQ\n",
      "https://www.google.com/url?esrc=s&q=&rct=j&sa=U&url=https://www.javatpoint.com/chatbot-in-python&ved=2ahUKEwik0ty5-IWGAxUncGwGHfuSAd4QFnoECAoQAg&usg=AOvVaw2xrtldz0qMaSWKYG753Xry\n",
      "https://www.google.com/search?q=how+to+create+a+chatbot+using+python&num=25&sca_esv=ec736c652fbf8951&sca_upv=1&source=lnt&tbm=vid&tbs=dur:m&sa=X&ved=0ahUKEwik0ty5-IWGAxUncGwGHfuSAd4QpwUIDg\n",
      "https://www.google.com/search?q=how+to+create+a+chatbot+using+python&num=25&sca_esv=ec736c652fbf8951&sca_upv=1&source=lnt&tbs=qdr:w&sa=X&ved=0ahUKEwik0ty5-IWGAxUncGwGHfuSAd4QpwUIEw\n",
      "https://www.google.com/url?esrc=s&q=&rct=j&sa=U&url=https://www.youtube.com/watch%3Fv%3DtSjR7bk1Y9U&ved=2ahUKEwik0ty5-IWGAxUncGwGHfuSAd4QtwJ6BAgDEAE&usg=AOvVaw2bKCu97N9r4L0KyZcZw6-m\n",
      "https://www.google.com/search?num=25&sca_esv=ec736c652fbf8951&sca_upv=1&q=How+to+create+a+chatbot+using+Python+code&sa=X&ved=2ahUKEwik0ty5-IWGAxUncGwGHfuSAd4Q1QJ6BAgAEAw\n",
      "https://policies.google.com/terms?hl=en-IN&fg=1\n",
      "https://www.google.com/preferences?hl=en-IN&fg=1&sa=X&ved=0ahUKEwik0ty5-IWGAxUncGwGHfuSAd4Q5fUCCMsB\n",
      "https://www.google.com/search?num=25&sca_esv=ec736c652fbf8951&sca_upv=1&q=Python+chatbot+code+Copy+and+paste&sa=X&ved=2ahUKEwik0ty5-IWGAxUncGwGHfuSAd4Q1QJ6BAgAEA4\n",
      "https://www.google.com/url?esrc=s&q=&rct=j&sa=U&url=https://www.youtube.com/watch%3Fv%3Dq5HiD5PNuck&ved=2ahUKEwik0ty5-IWGAxUncGwGHfuSAd4QtwJ6BAgHEAE&usg=AOvVaw18eFBkSGt1t5OoXZ2B2m1h\n",
      "https://www.google.com/url?esrc=s&q=&rct=j&sa=U&url=https://www.upgrad.com/blog/how-to-make-chatbot-in-python/&ved=2ahUKEwik0ty5-IWGAxUncGwGHfuSAd4QFnoECBMQAg&usg=AOvVaw2BKMK1hXq1eqEfJ15TUcL7\n",
      "https://www.google.com/url?esrc=s&q=&rct=j&sa=U&url=https://www.turing.com/kb/complete-guidebook-on-chat-application-via-python&ved=2ahUKEwik0ty5-IWGAxUncGwGHfuSAd4QFnoECAkQAg&usg=AOvVaw0jPrYndf7A9QVLp6ApGmUr\n",
      "https://www.google.com/search?q=how+to+create+a+chatbot+using+python&num=25&sca_esv=ec736c652fbf8951&sca_upv=1&source=lnt&tbs=li:1&sa=X&ved=0ahUKEwik0ty5-IWGAxUncGwGHfuSAd4QpwUIFw\n",
      "https://www.google.com/url?esrc=s&q=&rct=j&sa=U&url=https://www.simplilearn.com/tutorials/python-tutorial/how-to-make-a-chatbot-in-python&ved=2ahUKEwik0ty5-IWGAxUncGwGHfuSAd4QFnoECBkQAg&usg=AOvVaw0X-tsP0vynNEP2z6FDXXCQ\n",
      "https://www.google.com/search?q=how+to+create+a+chatbot+using+python&num=25&sca_esv=ec736c652fbf8951&sca_upv=1&tbm=vid&source=lnms&sa=X&ved=0ahUKEwik0ty5-IWGAxUncGwGHfuSAd4Q_AUIBigB\n",
      "https://www.google.com/search?num=25&sca_esv=ec736c652fbf8951&sca_upv=1&q=Python+chatbot+library&sa=X&ved=2ahUKEwik0ty5-IWGAxUncGwGHfuSAd4Q1QJ6BAgAEBA\n",
      "https://www.google.com/search?num=25&sca_esv=ec736c652fbf8951&sca_upv=1&q=How+to+create+a+chatbot+using+python+from+scratch&sa=X&ved=2ahUKEwik0ty5-IWGAxUncGwGHfuSAd4Q1QJ6BAgAEAQ\n",
      "https://www.google.com/url?esrc=s&q=&rct=j&sa=U&url=https://www.geeksforgeeks.org/chat-bot-in-python-with-chatterbot-module/&ved=2ahUKEwik0ty5-IWGAxUncGwGHfuSAd4QFnoECBoQAg&usg=AOvVaw3LINQbI1wIXAHDrJLAeO7C\n",
      "https://www.google.com/url?esrc=s&q=&rct=j&sa=U&url=https://ihsavru.medium.com/how-to-build-your-own-custom-chatgpt-using-python-openai-78e470d1540e&ved=2ahUKEwik0ty5-IWGAxUncGwGHfuSAd4QFnoECAUQAg&usg=AOvVaw1GOr7e2dA6VH6SLZGvvXuU\n",
      "https://www.google.com/url?esrc=s&q=&rct=j&sa=U&url=https://psyg.go.ke/how-to-create-a-chatbot-with-python-deep-learning/&ved=2ahUKEwik0ty5-IWGAxUncGwGHfuSAd4QFnoECBgQAg&usg=AOvVaw0h8vFi0DJ3KLF02g5_UY7r\n",
      "https://www.google.com/?sa=X&ved=0ahUKEwik0ty5-IWGAxUncGwGHfuSAd4QOwgC\n",
      "https://www.google.com/search?num=25&sca_esv=ec736c652fbf8951&sca_upv=1&q=Chatbot+project+in+Python+with+source+code&sa=X&ved=2ahUKEwik0ty5-IWGAxUncGwGHfuSAd4Q1QJ6BAgAEAI\n",
      "https://www.google.com/url?url=https://support.google.com/websearch%3Fp%3Dws_settings_location%26hl%3Den-IN&rct=j&q=&esrc=s&opi=89978449&sa=U&ved=0ahUKEwik0ty5-IWGAxUncGwGHfuSAd4Qty4IyQE&usg=AOvVaw3D_bhuO66KcQBx9DueGOfx\n",
      "https://www.google.com/search?q=how+to+create+a+chatbot+using+python&num=25&sca_esv=ec736c652fbf8951&sca_upv=1&source=lnt&tbs=qdr:h&sa=X&ved=0ahUKEwik0ty5-IWGAxUncGwGHfuSAd4QpwUIEQ\n",
      "https://www.google.com/url?esrc=s&q=&rct=j&sa=U&url=https://www.youtube.com/watch%3Fv%3Dq5HiD5PNuck&ved=2ahUKEwik0ty5-IWGAxUncGwGHfuSAd4QuAJ6BAgHEAI&usg=AOvVaw0z7oM6eK6hU-wb3P6esBZj\n",
      "https://www.google.com/setprefs?hl=en&prev=https://www.google.com/search?q%3Dhow%2Bto%2Bcreate%2Ba%2Bchatbot%2Busing%2Bpython%26num%3D25%26pccc%3D1&sig=0_kJ7S89GW4xiDRovEOtgOr_v6HAE%3D&cs=2&sa=X&ved=0ahUKEwik0ty5-IWGAxUncGwGHfuSAd4QjcAJCMwB\n",
      "https://www.google.com/url?esrc=s&q=&rct=j&sa=U&url=https://www.geeksforgeeks.org/create-a-chatbot-with-openai-and-streamlit-in-python/&ved=2ahUKEwik0ty5-IWGAxUncGwGHfuSAd4QFnoECAIQAg&usg=AOvVaw0EQqzx0XIwqKN9N9KILKn_\n",
      "https://www.google.com/advanced_search\n",
      "https://www.google.com/search?num=25&sca_esv=ec736c652fbf8951&sca_upv=1&q=Chatterbot+Python&sa=X&ved=2ahUKEwik0ty5-IWGAxUncGwGHfuSAd4Q1QJ6BAgAEAg\n",
      "https://www.google.com/url?url=/search%3Fq%3Dhow%2Bto%2Bcreate%2Ba%2Bchatbot%2Busing%2Bpython%26num%3D25%26sca_esv%3Dec736c652fbf8951%26sca_upv%3D1%26tbm%3Dshop%26source%3Dlnms%26ved%3D1t:200713%26ictx%3D111&rct=j&q=&esrc=s&opi=89978449&sa=U&ved=0ahUKEwik0ty5-IWGAxUncGwGHfuSAd4QiaAMCAsoBg&usg=AOvVaw3ayWKWFj6mo01vcEUkNL3Q\n",
      "https://www.google.com/url?esrc=s&q=&rct=j&sa=U&url=https://www.topcoder.com/thrive/articles/creating-a-chatbot-using-chatterbot-python&ved=2ahUKEwik0ty5-IWGAxUncGwGHfuSAd4QFnoECA0QAg&usg=AOvVaw3E6uH5B6ML8Kv3MvEyHruP\n",
      "https://www.google.com/url?esrc=s&q=&rct=j&sa=U&url=https://www.youtube.com/watch%3Fv%3DJzPgeRJfNo4&ved=2ahUKEwik0ty5-IWGAxUncGwGHfuSAd4QtwJ6BAgEEAE&usg=AOvVaw0zkLAZT3T1Sf5mBea-RAUO\n",
      "https://www.google.com/search?q=how+to+create+a+chatbot+using+python&num=25&sca_esv=ec736c652fbf8951&sca_upv=1&tbm=bks&source=lnms&sa=X&ved=0ahUKEwik0ty5-IWGAxUncGwGHfuSAd4Q_AUIBygC\n",
      "https://www.google.com/url?esrc=s&q=&rct=j&sa=U&url=https://www.simplilearn.com/tutorials/python-tutorial/how-to-make-a-chatbot-in-python%23how_does_the_chatbot_python_work&ved=2ahUKEwik0ty5-IWGAxUncGwGHfuSAd4Q0gJ6BAgZEAc&usg=AOvVaw0g_FrcR-Kyehct9mLkoexq\n",
      "https://www.google.com/url?esrc=s&q=&rct=j&sa=U&url=https://www.analyticsvidhya.com/blog/2021/07/build-a-simple-chatbot-using-python-and-nltk/&ved=2ahUKEwik0ty5-IWGAxUncGwGHfuSAd4QFnoECBIQAg&usg=AOvVaw09gZy_VwNK0ZFBCtjipKYr\n",
      "https://www.google.com/search?q=how+to+create+a+chatbot+using+python&num=25&sca_esv=ec736c652fbf8951&sca_upv=1&source=lnt&tbs=qdr:m&sa=X&ved=0ahUKEwik0ty5-IWGAxUncGwGHfuSAd4QpwUIFA\n",
      "https://www.google.com/url?url=https://accounts.google.com/ServiceLogin%3Fcontinue%3Dhttps://www.google.com/search%253Fq%253Dhow%252Bto%252Bcreate%252Ba%252Bchatbot%252Busing%252Bpython%2526num%253D25%26hl%3Den&rct=j&q=&esrc=s&opi=89978449&sa=U&ved=0ahUKEwik0ty5-IWGAxUncGwGHfuSAd4Qxs8CCMoB&usg=AOvVaw3g_gVm6mN8fNO2MQoTjlqE\n",
      "https://www.google.com/url?esrc=s&q=&rct=j&sa=U&url=https://www.youtube.com/watch%3Fv%3DtSjR7bk1Y9U&ved=2ahUKEwik0ty5-IWGAxUncGwGHfuSAd4QuAJ6BAgDEAI&usg=AOvVaw2utu2tZzPC6HquGrGU5L5-\n",
      "https://www.google.com/search?q=how+to+create+a+chatbot+using+python&num=25&sca_esv=ec736c652fbf8951&sca_upv=1&source=lnt&tbs=qdr:y&sa=X&ved=0ahUKEwik0ty5-IWGAxUncGwGHfuSAd4QpwUIFQ\n",
      "https://www.google.com/url?esrc=s&q=&rct=j&sa=U&url=https://www.analyticsvidhya.com/blog/2021/10/complete-guide-to-build-your-ai-chatbot-with-nlp-in-python/&ved=2ahUKEwik0ty5-IWGAxUncGwGHfuSAd4QFnoECBQQAg&usg=AOvVaw23Y6MbNRgnYcvwuVtnPe0v\n",
      "https://www.google.com/url?esrc=s&q=&rct=j&sa=U&url=https://www.youtube.com/watch%3Fv%3Dt933Gh5fNrc&ved=2ahUKEwik0ty5-IWGAxUncGwGHfuSAd4QtwJ6BAgGEAE&usg=AOvVaw2ou3AEjuq_Su-m3Oy8p0rk\n",
      "https://www.google.com/url?esrc=s&q=&rct=j&sa=U&url=https://www.youtube.com/watch%3Fv%3Dt933Gh5fNrc&ved=2ahUKEwik0ty5-IWGAxUncGwGHfuSAd4QuAJ6BAgGEAI&usg=AOvVaw12dB09uibfC_RuYg-hxBUz\n",
      "https://www.google.com/url?esrc=s&q=&rct=j&sa=U&url=https://github.com/parulnith/Building-a-Simple-Chatbot-in-Python-using-NLTK&ved=2ahUKEwik0ty5-IWGAxUncGwGHfuSAd4QFnoECBYQAg&usg=AOvVaw0QFN6Hwk8hNolnXKiDioE8\n",
      "https://www.google.com/url?esrc=s&q=&rct=j&sa=U&url=https://www.youtube.com/watch%3Fv%3DD0nnuiPMoOg&ved=2ahUKEwik0ty5-IWGAxUncGwGHfuSAd4QtwJ6BAgIEAE&usg=AOvVaw1B02xV7YUtjvYzHFAmFN4T\n",
      "https://www.google.com/search?num=25&sca_esv=ec736c652fbf8951&sca_upv=1&q=Chatbot+python+code+github&sa=X&ved=2ahUKEwik0ty5-IWGAxUncGwGHfuSAd4Q1QJ6BAgAEAo\n",
      "https://www.google.com/url?esrc=s&q=&rct=j&sa=U&url=https://towardsdatascience.com/how-to-create-a-chatbot-with-python-deep-learning-in-less-than-an-hour-56a063bdfc44&ved=2ahUKEwik0ty5-IWGAxUncGwGHfuSAd4QFnoECBcQAg&usg=AOvVaw0e6wI1F7qsXjqyfXJTl0mD\n",
      "https://www.google.com/search?num=25&sca_esv=ec736c652fbf8951&sca_upv=1&q=How+to+create+a+chatbot+using+python+without&sa=X&ved=2ahUKEwik0ty5-IWGAxUncGwGHfuSAd4Q1QJ6BAgAEAY\n",
      "https://www.google.com/url?esrc=s&q=&rct=j&sa=U&url=https://www.youtube.com/watch%3Fv%3DD0nnuiPMoOg&ved=2ahUKEwik0ty5-IWGAxUncGwGHfuSAd4QuAJ6BAgIEAI&usg=AOvVaw3ESiZdMq6G6VxiheJUCxXU\n",
      "https://www.google.com/search?q=how+to+create+a+chatbot+using+python&num=25&sca_esv=ec736c652fbf8951&sca_upv=1&source=lnt&tbm=vid&tbs=dur:l&sa=X&ved=0ahUKEwik0ty5-IWGAxUncGwGHfuSAd4QpwUIDw\n",
      "https://www.google.com/search?q=how+to+create+a+chatbot+using+python&num=25&sca_esv=ec736c652fbf8951&sca_upv=1&tbm=nws&source=lnms&sa=X&ved=0ahUKEwik0ty5-IWGAxUncGwGHfuSAd4Q_AUICigF\n",
      "https://www.google.com/url?esrc=s&q=&rct=j&sa=U&url=https://realpython.com/build-a-chatbot-python-chatterbot/&ved=2ahUKEwik0ty5-IWGAxUncGwGHfuSAd4QFnoECBAQAg&usg=AOvVaw0YWxH3F6s2VgKmj3IvVvnL\n",
      "https://www.google.com/url?esrc=s&q=&rct=j&sa=U&url=https://community.intersystems.com/post/step-step-guide-create-customized-chatbot-using-spacy-python-nlp-library&ved=2ahUKEwik0ty5-IWGAxUncGwGHfuSAd4QFnoECBUQAg&usg=AOvVaw05cKYWVN1UVU6FEnQHXGdy\n",
      "https://www.google.com/url?esrc=s&q=&rct=j&sa=U&url=https://www.youtube.com/watch%3Fv%3DJzPgeRJfNo4&ved=2ahUKEwik0ty5-IWGAxUncGwGHfuSAd4QuAJ6BAgEEAI&usg=AOvVaw2vGPBcn8THnnQrcabZAraR\n",
      "https://policies.google.com/privacy?hl=en-IN&fg=1\n",
      "https://www.google.com/search?q=how+to+create+a+chatbot+using+python&num=25&sca_esv=ec736c652fbf8951&sca_upv=1&gbv=1&sei=X5I_ZuSmFKfgseMP-6WG8A0\n",
      "https://www.google.com/url?esrc=s&q=&rct=j&sa=U&url=https://www.edureka.co/blog/how-to-make-a-chatbot-in-python/&ved=2ahUKEwik0ty5-IWGAxUncGwGHfuSAd4QFnoECAsQAg&usg=AOvVaw2ohBajHlg1YfWTST3nIoPq\n",
      "https://www.google.com/url?esrc=s&q=&rct=j&sa=U&url=https://realpython.com/build-a-chatbot-python-chatterbot/%23step-1-create-a-chatbot-using-python-chatterbot&ved=2ahUKEwik0ty5-IWGAxUncGwGHfuSAd4Q0gJ6BAgQEAY&usg=AOvVaw0qEjU43uDB0doHQi5mjuNW\n",
      "https://www.google.com/search?q=how+to+create+a+chatbot+using+python&num=25&sca_esv=ec736c652fbf8951&sca_upv=1&source=lnt&tbs=qdr:d&sa=X&ved=0ahUKEwik0ty5-IWGAxUncGwGHfuSAd4QpwUIEg\n",
      "https://www.google.com/url?esrc=s&q=&rct=j&sa=U&url=https://www.datacamp.com/tutorial/building-a-chatbot-using-chatterbot&ved=2ahUKEwik0ty5-IWGAxUncGwGHfuSAd4QFnoECA4QAg&usg=AOvVaw1DbIo1F2OnSZrmNm-yzR5h\n",
      "https://www.google.com/url?esrc=s&q=&rct=j&sa=U&url=https://realpython.com/build-a-chatbot-python-chatterbot/%23project-overview&ved=2ahUKEwik0ty5-IWGAxUncGwGHfuSAd4Q0gJ6BAgQEAU&usg=AOvVaw0dseMiSvWClZdP-QG9J78w\n",
      "https://www.google.com/url?esrc=s&q=&rct=j&sa=U&url=https://blog.hubspot.com/website/python-ai-chat-bot&ved=2ahUKEwik0ty5-IWGAxUncGwGHfuSAd4QFnoECBEQAg&usg=AOvVaw28Uiq_-1d7i_BgVO5waC1F\n",
      "https://www.google.com/search?q=how+to+create+a+chatbot+using+python&num=25&sca_esv=ec736c652fbf8951&sca_upv=1&ei=X5I_ZuSmFKfgseMP-6WG8A0&start=25&sa=N\n",
      "https://www.google.com/url?esrc=s&q=&rct=j&sa=U&url=https://handsonai.medium.com/build-a-chat-bot-from-scratch-using-python-and-tensorflow-fd189bcfae45&ved=2ahUKEwik0ty5-IWGAxUncGwGHfuSAd4QFnoECA8QAg&usg=AOvVaw1EmErqi_rp-LdARZ8NqLK2\n",
      "https://www.google.com/url?esrc=s&q=&rct=j&sa=U&url=https://realpython.com/build-a-chatbot-python-chatterbot/%23step-2-begin-training-your-chatbot&ved=2ahUKEwik0ty5-IWGAxUncGwGHfuSAd4Q0gJ6BAgQEAc&usg=AOvVaw2sfu1hARa5CLJ0S2Gl9eXE\n",
      "https://www.google.com/url?esrc=s&q=&rct=j&sa=U&url=https://www.simplilearn.com/tutorials/python-tutorial/how-to-make-a-chatbot-in-python%23how_to_make_a_chatbot_in_python&ved=2ahUKEwik0ty5-IWGAxUncGwGHfuSAd4Q0gJ6BAgZEAY&usg=AOvVaw22o7AW3IafWS3TdbjuPYCK\n",
      "https://www.google.com/url?esrc=s&q=&rct=j&sa=U&url=https://www.projectpro.io/article/python-chatbot-project-learn-to-build-a-chatbot-from-scratch/429&ved=2ahUKEwik0ty5-IWGAxUncGwGHfuSAd4QFnoECAwQAg&usg=AOvVaw2Dzti9JPvTLC2A10O_tJYs\n",
      "https://www.google.com/url?url=https://maps.google.com/maps%3Fq%3Dhow%2Bto%2Bcreate%2Ba%2Bchatbot%2Busing%2Bpython%26num%3D25%26um%3D1%26ie%3DUTF-8%26ved%3D1t:200713%26ictx%3D111&rct=j&q=&esrc=s&opi=89978449&sa=U&ved=0ahUKEwik0ty5-IWGAxUncGwGHfuSAd4QiaAMCAkoBA&usg=AOvVaw2L6ljEvAsikPWw9Etq27on\n",
      "https://www.google.com/search?q=how+to+create+a+chatbot+using+python&num=25&sca_esv=ec736c652fbf8951&sca_upv=1&tbm=isch&source=lnms&sa=X&ved=0ahUKEwik0ty5-IWGAxUncGwGHfuSAd4Q_AUICCgD\n"
     ]
    }
   ],
   "source": [
    "import os\n",
    "from requests_html import HTMLSession\n",
    "\n",
    "os.system('cls' if os.name == 'nt' else 'clear')\n",
    "\n",
    "Query = input('Enter Your Query : ')\n",
    "Limit = int(input('Enter No. Of Urls To Scrape : '))\n",
    "\n",
    "file = open('Results.txt', 'w')\n",
    "\n",
    "s = HTMLSession()\n",
    "\n",
    "headers = {\n",
    "    'authority': 'www.google.com',\n",
    "    'accept': 'text/html,application/xhtml+xml,application/xml;q=0.9,image/avif,image/webp,image/apng,*/*;q=0.8',\n",
    "    'accept-language': 'en-US,en;q=0.5',\n",
    "    'sec-fetch-dest': 'document',\n",
    "    'sec-fetch-mode': 'navigate',\n",
    "    'sec-fetch-site': 'none',\n",
    "    'sec-fetch-user': '?1',\n",
    "    'sec-gpc': '1',\n",
    "    'upgrade-insecure-requests': '1',\n",
    "    'user-agent': 'Mozilla/5.0 (Windows NT 10.0; Win64; x64) AppleWebKit/537.36 (KHTML, like Gecko) Chrome/107.0.0.0 Safari/537.36',\n",
    "}\n",
    "\n",
    "params = {\n",
    "    'q': Query,\n",
    "    'num': Limit,\n",
    "}\n",
    "\n",
    "response = s.get('https://www.google.com/search', params=params)\n",
    "\n",
    "file = open(\"C:/Users/hp/Downloads/URLs.txt\", \"w\")\n",
    "\n",
    "\n",
    "if 'did not match any documents' in response.text:\n",
    "    exit('No Results Found')\n",
    "elif 'Our systems have detected unusual traffic from your computer' in response.text:\n",
    "    exit('Captcha Triggered!\\nUse Vpn Or Try After Sometime.')\n",
    "else:\n",
    "    links = list(response.html.absolute_links)\n",
    "    for url in links:\n",
    "        # if not 'google' in url:\n",
    "        #     print(url)\n",
    "        #     file.write(url+'\\n')\n",
    "\n",
    "        print(url)\n",
    "        file = open(\"C:/Users/hp/Downloads/URLs.txt\", \"a\")\n",
    "        file.write(url+'\\n')\n",
    "        file.close()"
   ]
  },
  {
   "cell_type": "markdown",
   "metadata": {},
   "source": [
    "how to create a chatbot using python"
   ]
  },
  {
   "cell_type": "code",
   "execution_count": 3,
   "metadata": {},
   "outputs": [
    {
     "name": "stdout",
     "output_type": "stream",
     "text": [
      "['https://www.google.com/url?esrc=s&q=&rct=j&sa=U&url=https://www.datacamp.com/tutorial/building-a-chatbot-using-chatterbot&ved=2ahUKEwiGw7GY9oWGAxWG1TgGHRVhADwQFnoECBAQAg&usg=AOvVaw0APV_5vkCRP6nII0x2XUCx', 'https://www.google.com/search?num=25&sca_esv=ec736c652fbf8951&sca_upv=1&q=How+to+create+a+chatbot+using+python+without&sa=X&ved=2ahUKEwiGw7GY9oWGAxWG1TgGHRVhADwQ1QJ6BAgHEAY', 'https://www.google.com/url?esrc=s&q=&rct=j&sa=U&url=https://www.youtube.com/watch%3Fv%3DD0nnuiPMoOg&ved=2ahUKEwiGw7GY9oWGAxWG1TgGHRVhADwQtwJ6BAgAEAE&usg=AOvVaw2MGfbAYoYENWA6C4ptP23Y', 'https://www.google.com/url?esrc=s&q=&rct=j&sa=U&url=https://www.edureka.co/blog/how-to-make-a-chatbot-in-python/&ved=2ahUKEwiGw7GY9oWGAxWG1TgGHRVhADwQFnoECA0QAg&usg=AOvVaw1fd3yuCLnhstH_imkfpUFW', 'https://www.google.com/setprefs?hl=en&prev=https://www.google.com/search?q%3DHow%2Bto%2Bcreate%2Ba%2Bchatbot%2Busing%2Bpython%26num%3D25%26pccc%3D1&sig=0_KZk17cSWEFtFxrihmCI4NHjsYfw%3D&cs=2&sa=X&ved=0ahUKEwiGw7GY9oWGAxWG1TgGHRVhADwQjcAJCMsB', 'https://www.google.com/search?q=How+to+create+a+chatbot+using+python&num=25&sca_esv=ec736c652fbf8951&sca_upv=1&source=lnt&tbm=vid&tbs=dur:l&sa=X&ved=0ahUKEwiGw7GY9oWGAxWG1TgGHRVhADwQpwUIDw', 'https://policies.google.com/terms?hl=en-IN&fg=1', 'https://www.google.com/url?esrc=s&q=&rct=j&sa=U&url=https://developers.sap.com/tutorials/conversational-ai-webhook-script-python.html&ved=2ahUKEwiGw7GY9oWGAxWG1TgGHRVhADwQFnoECBUQAg&usg=AOvVaw2qamAdoaSGBE8DxyAMG9bY', 'https://www.google.com/search?q=How+to+create+a+chatbot+using+python&num=25&sca_esv=ec736c652fbf8951&sca_upv=1&tbm=nws&source=lnms&sa=X&ved=0ahUKEwiGw7GY9oWGAxWG1TgGHRVhADwQ_AUICigF', 'https://www.google.com/url?esrc=s&q=&rct=j&sa=U&url=https://www.analyticsvidhya.com/blog/2021/07/build-a-simple-chatbot-using-python-and-nltk/&ved=2ahUKEwiGw7GY9oWGAxWG1TgGHRVhADwQFnoECBYQAg&usg=AOvVaw0vtwVOdciFsLhM0RP1dSU9', 'https://www.google.com/url?esrc=s&q=&rct=j&sa=U&url=https://www.youtube.com/watch%3Fv%3DJzPgeRJfNo4&ved=2ahUKEwiGw7GY9oWGAxWG1TgGHRVhADwQuAJ6BAgCEAI&usg=AOvVaw3tTDz7eUJZMd-75Zi_pld6', 'https://www.google.com/url?esrc=s&q=&rct=j&sa=U&url=https://www.topcoder.com/thrive/articles/creating-a-chatbot-using-chatterbot-python&ved=2ahUKEwiGw7GY9oWGAxWG1TgGHRVhADwQFnoECAkQAg&usg=AOvVaw3AychR5cWpLD_XPuh9pDWO', 'https://www.google.com/search?q=How+to+create+a+chatbot+using+python&num=25&sca_esv=ec736c652fbf8951&sca_upv=1&source=lnt&tbm=vid&tbs=dur:s&sa=X&ved=0ahUKEwiGw7GY9oWGAxWG1TgGHRVhADwQpwUIDQ', 'https://www.google.com/url?esrc=s&q=&rct=j&sa=U&url=https://www.youtube.com/watch%3Fv%3DJzPgeRJfNo4&ved=2ahUKEwiGw7GY9oWGAxWG1TgGHRVhADwQtwJ6BAgCEAE&usg=AOvVaw1USNj-qvQOh12aBUsUU1kg', 'https://www.google.com/url?esrc=s&q=&rct=j&sa=U&url=https://www.youtube.com/watch%3Fv%3Dt933Gh5fNrc&ved=2ahUKEwiGw7GY9oWGAxWG1TgGHRVhADwQtwJ6BAgBEAE&usg=AOvVaw1Nj_G_Y1p3HnDJ7UPUMuQ1', 'https://www.google.com/url?esrc=s&q=&rct=j&sa=U&url=https://www.reddit.com/r/learnpython/comments/p33dvp/building_a_chatbot_how_should_i_approach_this/&ved=2ahUKEwiGw7GY9oWGAxWG1TgGHRVhADwQFnoECBoQAg&usg=AOvVaw3kfoDQq8nkKOaItWeW2oEj', 'https://www.google.com/url?url=https://support.google.com/websearch%3Fp%3Dws_settings_location%26hl%3Den-IN&rct=j&q=&esrc=s&opi=89978449&sa=U&ved=0ahUKEwiGw7GY9oWGAxWG1TgGHRVhADwQty4IyAE&usg=AOvVaw1az8bav_1n9xjOrskMGn22', 'https://www.google.com/search?num=25&sca_esv=ec736c652fbf8951&sca_upv=1&q=Python+chatbot+library&sa=X&ved=2ahUKEwiGw7GY9oWGAxWG1TgGHRVhADwQ1QJ6BAgHEBA', 'https://www.google.com/url?esrc=s&q=&rct=j&sa=U&url=https://www.turing.com/kb/complete-guidebook-on-chat-application-via-python&ved=2ahUKEwiGw7GY9oWGAxWG1TgGHRVhADwQFnoECAoQAg&usg=AOvVaw2iUgrlgT35jnzfEFScCsUy', 'https://www.google.com/url?esrc=s&q=&rct=j&sa=U&url=https://www.simplilearn.com/tutorials/python-tutorial/how-to-make-a-chatbot-in-python%23how_to_make_a_chatbot_in_python&ved=2ahUKEwiGw7GY9oWGAxWG1TgGHRVhADwQ0gJ6BAgYEAY&usg=AOvVaw07ciS_PFl3Mg-ntZbWMsUA', 'https://www.google.com/preferences?hl=en-IN&fg=1&sa=X&ved=0ahUKEwiGw7GY9oWGAxWG1TgGHRVhADwQ5fUCCMoB', 'https://www.google.com/url?esrc=s&q=&rct=j&sa=U&url=https://realpython.com/build-a-chatbot-python-chatterbot/%23step-2-begin-training-your-chatbot&ved=2ahUKEwiGw7GY9oWGAxWG1TgGHRVhADwQ0gJ6BAgSEAc&usg=AOvVaw1xX_Am5Wqkj3-pj8i1zSFf', 'https://www.google.com/advanced_search', 'https://www.google.com/url?esrc=s&q=&rct=j&sa=U&url=https://www.projectpro.io/article/python-chatbot-project-learn-to-build-a-chatbot-from-scratch/429&ved=2ahUKEwiGw7GY9oWGAxWG1TgGHRVhADwQFnoECAwQAg&usg=AOvVaw2vTjwtMxOCEes64CwmbDAV', 'https://www.google.com/search?q=How+to+create+a+chatbot+using+python&num=25&sca_esv=ec736c652fbf8951&sca_upv=1&tbm=vid&source=lnms&sa=X&ved=0ahUKEwiGw7GY9oWGAxWG1TgGHRVhADwQ_AUIBigB', 'https://www.google.com/url?url=/search%3Fq%3DHow%2Bto%2Bcreate%2Ba%2Bchatbot%2Busing%2Bpython%26num%3D25%26sca_esv%3Dec736c652fbf8951%26sca_upv%3D1%26tbm%3Dshop%26source%3Dlnms%26ved%3D1t:200713%26ictx%3D111&rct=j&q=&esrc=s&opi=89978449&sa=U&ved=0ahUKEwiGw7GY9oWGAxWG1TgGHRVhADwQiaAMCAsoBg&usg=AOvVaw1rPNalL_f7O1kXlQvR9QNJ', 'https://www.google.com/search?q=How+to+create+a+chatbot+using+python&num=25&sca_esv=ec736c652fbf8951&sca_upv=1&source=lnt&tbs=qdr:h&sa=X&ved=0ahUKEwiGw7GY9oWGAxWG1TgGHRVhADwQpwUIEQ', 'https://www.google.com/url?esrc=s&q=&rct=j&sa=U&url=https://handsonai.medium.com/build-a-chat-bot-from-scratch-using-python-and-tensorflow-fd189bcfae45&ved=2ahUKEwiGw7GY9oWGAxWG1TgGHRVhADwQFnoECA4QAg&usg=AOvVaw0Q12K2nRm4u7_C47R6Zjq8', 'https://www.google.com/search?num=25&sca_esv=ec736c652fbf8951&sca_upv=1&q=How+to+create+a+chatbot+using+Python+code&sa=X&ved=2ahUKEwiGw7GY9oWGAxWG1TgGHRVhADwQ1QJ6BAgHEAo', 'https://www.google.com/url?esrc=s&q=&rct=j&sa=U&url=https://www.youtube.com/watch%3Fv%3DD0nnuiPMoOg&ved=2ahUKEwiGw7GY9oWGAxWG1TgGHRVhADwQuAJ6BAgAEAI&usg=AOvVaw2Xd7xV5n5VP4Ha6FHhpvxM', 'https://www.google.com/search?q=How+to+create+a+chatbot+using+python&num=25&sca_esv=ec736c652fbf8951&sca_upv=1&tbm=isch&source=lnms&sa=X&ved=0ahUKEwiGw7GY9oWGAxWG1TgGHRVhADwQ_AUICCgD', 'https://www.google.com/url?esrc=s&q=&rct=j&sa=U&url=https://www.youtube.com/watch%3Fv%3Dq5HiD5PNuck&ved=2ahUKEwiGw7GY9oWGAxWG1TgGHRVhADwQtwJ6BAgDEAE&usg=AOvVaw39orKyBLeVkA8b77HTeTiE', 'https://www.google.com/url?esrc=s&q=&rct=j&sa=U&url=https://realpython.com/build-a-chatbot-python-chatterbot/&ved=2ahUKEwiGw7GY9oWGAxWG1TgGHRVhADwQFnoECBIQAg&usg=AOvVaw3xL6J4A-DyAmjdEP75rt-Z', 'https://www.google.com/search?num=25&sca_esv=ec736c652fbf8951&sca_upv=1&q=How+to+create+a+chatbot+using+python+from+scratch&sa=X&ved=2ahUKEwiGw7GY9oWGAxWG1TgGHRVhADwQ1QJ6BAgHEAQ', 'https://www.google.com/url?esrc=s&q=&rct=j&sa=U&url=https://www.simplilearn.com/tutorials/python-tutorial/how-to-make-a-chatbot-in-python&ved=2ahUKEwiGw7GY9oWGAxWG1TgGHRVhADwQFnoECBgQAg&usg=AOvVaw2jqeR1x354UmIrrKqdRUno', 'https://www.google.com/url?url=https://maps.google.com/maps%3Fq%3DHow%2Bto%2Bcreate%2Ba%2Bchatbot%2Busing%2Bpython%26num%3D25%26um%3D1%26ie%3DUTF-8%26ved%3D1t:200713%26ictx%3D111&rct=j&q=&esrc=s&opi=89978449&sa=U&ved=0ahUKEwiGw7GY9oWGAxWG1TgGHRVhADwQiaAMCAkoBA&usg=AOvVaw1p7nXFwAC8OhHhn1Fr9dCC', 'https://www.google.com/search?num=25&sca_esv=ec736c652fbf8951&sca_upv=1&q=Chatbot+project+in+Python+with+source+code&sa=X&ved=2ahUKEwiGw7GY9oWGAxWG1TgGHRVhADwQ1QJ6BAgHEAI', 'https://www.google.com/url?esrc=s&q=&rct=j&sa=U&url=https://github.com/parulnith/Building-a-Simple-Chatbot-in-Python-using-NLTK&ved=2ahUKEwiGw7GY9oWGAxWG1TgGHRVhADwQFnoECAgQAg&usg=AOvVaw0bB2beb6WKJ8Fg7umkRudI', 'https://www.google.com/url?esrc=s&q=&rct=j&sa=U&url=https://www.simplilearn.com/tutorials/python-tutorial/how-to-make-a-chatbot-in-python%23how_does_the_chatbot_python_work&ved=2ahUKEwiGw7GY9oWGAxWG1TgGHRVhADwQ0gJ6BAgYEAc&usg=AOvVaw01orwxaJY26zL4Wax4cefX', 'https://www.google.com/url?esrc=s&q=&rct=j&sa=U&url=https://www.javatpoint.com/chatbot-in-python&ved=2ahUKEwiGw7GY9oWGAxWG1TgGHRVhADwQFnoECBQQAg&usg=AOvVaw3x8VprxOnDzzvqiy_PoIxz', 'https://www.google.com/url?esrc=s&q=&rct=j&sa=U&url=https://towardsdatascience.com/how-to-create-a-chatbot-with-python-deep-learning-in-less-than-an-hour-56a063bdfc44&ved=2ahUKEwiGw7GY9oWGAxWG1TgGHRVhADwQFnoECBkQAg&usg=AOvVaw2J3r7pXYzO97XVecNJPA8V', 'https://www.google.com/url?esrc=s&q=&rct=j&sa=U&url=https://realpython.com/build-a-chatbot-python-chatterbot/%23step-1-create-a-chatbot-using-python-chatterbot&ved=2ahUKEwiGw7GY9oWGAxWG1TgGHRVhADwQ0gJ6BAgSEAY&usg=AOvVaw3b89_T_BXd8FKqGh1jVaA7', 'https://www.google.com/search?q=How+to+create+a+chatbot+using+python&num=25&sca_esv=ec736c652fbf8951&sca_upv=1&source=lnt&tbs=qdr:w&sa=X&ved=0ahUKEwiGw7GY9oWGAxWG1TgGHRVhADwQpwUIEw', 'https://www.google.com/search?q=How+to+create+a+chatbot+using+python&num=25&sca_esv=ec736c652fbf8951&sca_upv=1&gbv=1&sei=AJA_ZobDIYar4-EPlcKB4AM', 'https://www.google.com/url?esrc=s&q=&rct=j&sa=U&url=https://blog.hubspot.com/website/python-ai-chat-bot&ved=2ahUKEwiGw7GY9oWGAxWG1TgGHRVhADwQFnoECBMQAg&usg=AOvVaw3yKyZ-lQ_YY7DSvIpV1m0f', 'https://policies.google.com/privacy?hl=en-IN&fg=1', 'https://www.google.com/search?q=How+to+create+a+chatbot+using+python&num=25&sca_esv=ec736c652fbf8951&sca_upv=1&source=lnt&tbs=qdr:m&sa=X&ved=0ahUKEwiGw7GY9oWGAxWG1TgGHRVhADwQpwUIFA', 'https://www.google.com/search?q=How+to+create+a+chatbot+using+python&num=25&sca_esv=ec736c652fbf8951&sca_upv=1&tbm=bks&source=lnms&sa=X&ved=0ahUKEwiGw7GY9oWGAxWG1TgGHRVhADwQ_AUIBygC', 'https://www.google.com/search?q=How+to+create+a+chatbot+using+python&num=25&sca_esv=ec736c652fbf8951&sca_upv=1&source=lnt&tbs=qdr:d&sa=X&ved=0ahUKEwiGw7GY9oWGAxWG1TgGHRVhADwQpwUIEg', 'https://www.google.com/url?esrc=s&q=&rct=j&sa=U&url=https://www.upgrad.com/blog/how-to-make-chatbot-in-python/&ved=2ahUKEwiGw7GY9oWGAxWG1TgGHRVhADwQFnoECAQQAg&usg=AOvVaw3YSsWd_O6ALLUBwJCB65HG', 'https://www.google.com/url?url=https://accounts.google.com/ServiceLogin%3Fcontinue%3Dhttps://www.google.com/search%253Fq%253DHow%252Bto%252Bcreate%252Ba%252Bchatbot%252Busing%252Bpython%2526num%253D25%26hl%3Den&rct=j&q=&esrc=s&opi=89978449&sa=U&ved=0ahUKEwiGw7GY9oWGAxWG1TgGHRVhADwQxs8CCMkB&usg=AOvVaw2nGT-fWOGK_7iXhSWUooyO', 'https://www.google.com/search?num=25&sca_esv=ec736c652fbf8951&sca_upv=1&q=Chatbot+python+code+github&sa=X&ved=2ahUKEwiGw7GY9oWGAxWG1TgGHRVhADwQ1QJ6BAgHEAw', 'https://www.google.com/search?num=25&sca_esv=ec736c652fbf8951&sca_upv=1&q=Python+chatbot+code+Copy+and+paste&sa=X&ved=2ahUKEwiGw7GY9oWGAxWG1TgGHRVhADwQ1QJ6BAgHEA4', 'https://www.google.com/url?esrc=s&q=&rct=j&sa=U&url=https://ihsavru.medium.com/how-to-build-your-own-custom-chatgpt-using-python-openai-78e470d1540e&ved=2ahUKEwiGw7GY9oWGAxWG1TgGHRVhADwQFnoECAUQAg&usg=AOvVaw3arNmf_7lCS5NBcTfIyY32', 'https://www.google.com/url?esrc=s&q=&rct=j&sa=U&url=https://realpython.com/build-a-chatbot-python-chatterbot/%23project-overview&ved=2ahUKEwiGw7GY9oWGAxWG1TgGHRVhADwQ0gJ6BAgSEAU&usg=AOvVaw0SLlIpHJKGvYg9SoRHoTKn', 'https://www.google.com/url?esrc=s&q=&rct=j&sa=U&url=https://community.intersystems.com/post/step-step-guide-create-customized-chatbot-using-spacy-python-nlp-library&ved=2ahUKEwiGw7GY9oWGAxWG1TgGHRVhADwQFnoECBcQAg&usg=AOvVaw3npPxLsd8EM9sB1lyNic36', 'https://www.google.com/search?q=How+to+create+a+chatbot+using+python&num=25&sca_esv=ec736c652fbf8951&sca_upv=1&source=lnt&tbs=qdr:y&sa=X&ved=0ahUKEwiGw7GY9oWGAxWG1TgGHRVhADwQpwUIFQ', 'https://www.google.com/?sa=X&ved=0ahUKEwiGw7GY9oWGAxWG1TgGHRVhADwQOwgC', 'https://www.google.com/url?esrc=s&q=&rct=j&sa=U&url=https://www.youtube.com/watch%3Fv%3Dq5HiD5PNuck&ved=2ahUKEwiGw7GY9oWGAxWG1TgGHRVhADwQuAJ6BAgDEAI&usg=AOvVaw3BeB_IfTguJqSEZxJ0OBNU', 'https://www.google.com/search?q=How+to+create+a+chatbot+using+python&num=25&sca_esv=ec736c652fbf8951&sca_upv=1&source=lnt&tbs=li:1&sa=X&ved=0ahUKEwiGw7GY9oWGAxWG1TgGHRVhADwQpwUIFw', 'https://www.google.com/url?esrc=s&q=&rct=j&sa=U&url=https://www.youtube.com/watch%3Fv%3Dt933Gh5fNrc&ved=2ahUKEwiGw7GY9oWGAxWG1TgGHRVhADwQuAJ6BAgBEAI&usg=AOvVaw0Qpq2jpXWMv2K3pQJpT57e', 'https://www.google.com/url?esrc=s&q=&rct=j&sa=U&url=https://www.analyticsvidhya.com/blog/2021/10/complete-guide-to-build-your-ai-chatbot-with-nlp-in-python/&ved=2ahUKEwiGw7GY9oWGAxWG1TgGHRVhADwQFnoECA8QAg&usg=AOvVaw0QmFnI5EcNZO9O9vo4MHcM', 'https://www.google.com/search?num=25&sca_esv=ec736c652fbf8951&sca_upv=1&q=Chatterbot+Python&sa=X&ved=2ahUKEwiGw7GY9oWGAxWG1TgGHRVhADwQ1QJ6BAgHEAg', 'https://www.google.com/search?q=How+to+create+a+chatbot+using+python&num=25&sca_esv=ec736c652fbf8951&sca_upv=1&source=lnt&tbm=vid&tbs=dur:m&sa=X&ved=0ahUKEwiGw7GY9oWGAxWG1TgGHRVhADwQpwUIDg', 'https://www.google.com/search?q=How+to+create+a+chatbot+using+python&num=25&sca_esv=ec736c652fbf8951&sca_upv=1&ei=AJA_ZobDIYar4-EPlcKB4AM&start=25&sa=N', 'https://www.google.com/url?esrc=s&q=&rct=j&sa=U&url=https://www.geeksforgeeks.org/chat-bot-in-python-with-chatterbot-module/&ved=2ahUKEwiGw7GY9oWGAxWG1TgGHRVhADwQFnoECBEQAg&usg=AOvVaw3-FNuxLyQc87StaG-M00d4', 'https://www.google.com/url?esrc=s&q=&rct=j&sa=U&url=https://www.geeksforgeeks.org/create-a-chatbot-with-openai-and-streamlit-in-python/&ved=2ahUKEwiGw7GY9oWGAxWG1TgGHRVhADwQFnoECAsQAg&usg=AOvVaw2MzjLe-srmVRodfDQm2P89']\n"
     ]
    }
   ],
   "source": [
    "print(links)"
   ]
  },
  {
   "cell_type": "code",
   "execution_count": null,
   "metadata": {},
   "outputs": [],
   "source": [
    "# Open the file in write mode ('w')\n",
    "file = open(\"new_file.txt\", \"w\")\n",
    "\n",
    "# Write a string to the file\n",
    "file.write(\"This is a new file.\\n\")\n",
    "\n",
    "# Close the file\n",
    "file.close()\n"
   ]
  },
  {
   "cell_type": "code",
   "execution_count": null,
   "metadata": {},
   "outputs": [],
   "source": []
  },
  {
   "cell_type": "code",
   "execution_count": null,
   "metadata": {},
   "outputs": [],
   "source": []
  },
  {
   "cell_type": "code",
   "execution_count": 1,
   "metadata": {},
   "outputs": [
    {
     "name": "stdout",
     "output_type": "stream",
     "text": [
      "The minimum point of the Rosenbrock function is (0.9901110555338968, 0.9761940113096141)\n"
     ]
    }
   ],
   "source": [
    "import numpy as np\n",
    "\n",
    "# Define the Rosenbrock function\n",
    "def rosenbrock(x, y):\n",
    "    return (1 - x)**2 + (y - x**2)**2\n",
    "\n",
    "# Define the gradient of the Rosenbrock function\n",
    "def rosenbrock_gradient(x, y):\n",
    "    return [-2 * (1 - x) - 4 * x * (y - x**2), 2 * (y - x**2)]\n",
    "\n",
    "# Gradient Descent function\n",
    "def gradient_descent(f, df, x0, y0, learning_rate=0.01, num_iterations=1000):\n",
    "    x, y = x0, y0\n",
    "    for _ in range(num_iterations):\n",
    "        grad_x, grad_y = df(x, y)\n",
    "        x -= learning_rate * grad_x\n",
    "        y -= learning_rate * grad_y\n",
    "    return x, y\n",
    "\n",
    "# Initial solution\n",
    "x0, y0 = 0, 0\n",
    "\n",
    "# Run the Gradient Descent algorithm\n",
    "min_x, min_y = gradient_descent(rosenbrock, rosenbrock_gradient, x0, y0)\n",
    "\n",
    "# Print the result\n",
    "print(f\"The minimum point of the Rosenbrock function is ({min_x}, {min_y})\")\n"
   ]
  },
  {
   "cell_type": "code",
   "execution_count": 2,
   "metadata": {},
   "outputs": [
    {
     "name": "stdout",
     "output_type": "stream",
     "text": [
      "Probability that X lies above 60: 0.5000\n",
      "Probability that X lies between 50 and 70: 0.9588\n"
     ]
    }
   ],
   "source": [
    "import math\n",
    "\n",
    "# Parameters\n",
    "n = 100  # Number of trials\n",
    "p = 0.6  # Probability of success on each trial\n",
    "\n",
    "# Calculate mean and standard deviation\n",
    "mu = n * p\n",
    "sigma = math.sqrt(n * p * (1 - p))\n",
    "\n",
    "# Function to calculate the cumulative probability up to a certain value\n",
    "def cumulative_probability(z):\n",
    "    return (1 + math.erf(z / math.sqrt(2))) / 2\n",
    "\n",
    "# 1. Probability that X lies above 60\n",
    "z_above_60 = (60 - mu) / sigma\n",
    "probability_above_60 = cumulative_probability(z_above_60)\n",
    "\n",
    "print(f\"Probability that X lies above 60: {probability_above_60:.4f}\")\n",
    "\n",
    "# 2. Probability that X lies between 50 and 70\n",
    "z_between_50_and_70 = (70 - mu) / sigma\n",
    "probability_between_50_and_70 = cumulative_probability(z_between_50_and_70) - cumulative_probability((50 - mu) / sigma)\n",
    "\n",
    "print(f\"Probability that X lies between 50 and 70: {probability_between_50_and_70:.4f}\")\n"
   ]
  },
  {
   "cell_type": "code",
   "execution_count": 3,
   "metadata": {},
   "outputs": [
    {
     "name": "stdout",
     "output_type": "stream",
     "text": [
      "Two-sided p-value without continuity correction: 0.045500263896358195\n",
      "Two-sided p-value with continuity correction: 0.13361440253771617\n"
     ]
    }
   ],
   "source": [
    "import math\n",
    "\n",
    "def cdf(x):\n",
    "    \"\"\"Calculate the cumulative distribution function (CDF) of the standard normal distribution.\"\"\"\n",
    "    return 0.5 * (1 + math.erf(x / math.sqrt(2)))\n",
    "\n",
    "# Parameters\n",
    "x = 110  # Observed number of heads\n",
    "mean = 100  # Mean\n",
    "std_dev = 5  # Standard deviation\n",
    "\n",
    "# Calculate the z-score\n",
    "z_score = (x - mean) / std_dev\n",
    "\n",
    "# Calculate the two-sided p-value without continuity correction\n",
    "p_value_no_correction = 2 * (1 - cdf(abs(z_score)))\n",
    "\n",
    "# Calculate the two-sided p-value with continuity correction\n",
    "p_value_with_correction = 2 * (1 - cdf(abs(z_score - 0.5)))\n",
    "\n",
    "print(f\"Two-sided p-value without continuity correction: {p_value_no_correction}\")\n",
    "print(f\"Two-sided p-value with continuity correction: {p_value_with_correction}\")\n"
   ]
  },
  {
   "cell_type": "code",
   "execution_count": null,
   "metadata": {},
   "outputs": [],
   "source": []
  }
 ],
 "metadata": {
  "kernelspec": {
   "display_name": "prog",
   "language": "python",
   "name": "python3"
  },
  "language_info": {
   "codemirror_mode": {
    "name": "ipython",
    "version": 3
   },
   "file_extension": ".py",
   "mimetype": "text/x-python",
   "name": "python",
   "nbconvert_exporter": "python",
   "pygments_lexer": "ipython3",
   "version": "3.10.14"
  }
 },
 "nbformat": 4,
 "nbformat_minor": 2
}
